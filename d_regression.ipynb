{
 "cells": [
  {
   "cell_type": "markdown",
   "id": "3c5ee395",
   "metadata": {},
   "source": [
    "# Regression task\n",
    "\n",
    "In this notebook, we will:\n",
    "- #### Simulate daily streamflow ($Q$) in a mountain using precipitation, snow, and temperature data\n",
    "- First, necessary modules are imported.\n",
    "- Then, the data is loaded and inspected.\n",
    "- After that, ML starts...\n",
    "- Making the pipeline.\n",
    "- Using GridSearch.\n",
    "- Checking results.\n",
    "\n",
    "#### Make sure to:\n",
    "- Get a notion of *how your ML model works*.\n",
    "- *Select hyperparameters* to optimize.\n",
    "- Execute *GridSearch*.\n",
    "- Check model, particularly *test results*.\n",
    "- Is the methodology *valid*?\n",
    "\n",
    "#### About the models:\n",
    "- Linear (https://scikit-learn.org/stable/modules/generated/sklearn.linear_model.LinearRegression.html)\n",
    "- Polynomial (https://scikit-learn.org/stable/modules/generated/sklearn.preprocessing.PolynomialFeatures.html)\n",
    "- Multilayer Perceptron (ANN) (https://scikit-learn.org/stable/modules/generated/sklearn.neural_network.MLPRegressor.html)\n",
    "- Random Forests (https://scikit-learn.org/stable/modules/generated/sklearn.ensemble.RandomForestRegressor.html)\n",
    "- Support-vector regression (https://scikit-learn.org/stable/modules/generated/sklearn.svm.SVR.html)"
   ]
  },
  {
   "cell_type": "code",
   "execution_count": null,
   "id": "f7a3857b",
   "metadata": {},
   "outputs": [],
   "source": [
    "import numpy as np\n",
    "import pandas as pd\n",
    "import matplotlib.pyplot as plt\n",
    "from sklearn.preprocessing import StandardScaler\n",
    "from sklearn.decomposition import PCA\n",
    "from sklearn.linear_model import Ridge\n",
    "from sklearn.pipeline import Pipeline\n",
    "from sklearn.model_selection import GridSearchCV, KFold\n",
    "from sklearn.metrics import mean_squared_error\n",
    "\n",
    "from sklearn.linear_model import LinearRegression\n",
    "from sklearn.preprocessing import PolynomialFeatures\n",
    "from sklearn.neural_network import MLPRegressor\n",
    "from sklearn.ensemble import RandomForestRegressor\n",
    "from sklearn.svm import SVR"
   ]
  },
  {
   "cell_type": "markdown",
   "id": "fc973c20",
   "metadata": {},
   "source": [
    "## Load data\n",
    "\n",
    "Let's load and look at the data using the *pandas* module (`pd.read_csv()`).\n",
    "Also, we separate the test data to use at the end.\n"
   ]
  },
  {
   "cell_type": "code",
   "execution_count": null,
   "id": "f6f955bc",
   "metadata": {
    "scrolled": true
   },
   "outputs": [],
   "source": [
    "# This is all is takes to load it!\n",
    "data = pd.read_csv('regression_data.csv', index_col=0, date_format='%m/%d/%Y')\n",
    "\n",
    "# To split the data by dates\n",
    "\n",
    "X = data.loc[data.index<'2021-01-01', :].iloc[:, 1:]\n",
    "y = data.loc[data.index<'2021-01-01', :].iloc[:, 0]\n",
    "X_test = data.loc[data.index>='2021-01-01', :].iloc[:, 1:]\n",
    "y_test = data.loc[data.index>='2021-01-01', :].iloc[:, 0]\n",
    "\n",
    "# To print\n",
    "data"
   ]
  },
  {
   "cell_type": "markdown",
   "id": "3341e2cc",
   "metadata": {},
   "source": [
    "## How does it look?\n",
    "\n",
    "Now we use pandas (`data.plot()`) to create a few plots.  \n",
    "Its works with `matplotlib`, similarly to `plt.plot()`."
   ]
  },
  {
   "cell_type": "code",
   "execution_count": null,
   "id": "1ea66f9b",
   "metadata": {},
   "outputs": [],
   "source": [
    "# Create a 2x2 grid of subplots\n",
    "fig, axs = plt.subplots(2, 2, figsize=(15, 10))\n",
    "axs = axs.flatten()\n",
    "\n",
    "# Plot 1: Q (Discharge)\n",
    "data.loc[:, ['Q']].plot(color='steelblue', label='Q [m3/s]', ax=axs[0])\n",
    "axs[0].set_title('Discharge (Q) [m3/s]')\n",
    "axs[0].set_xlabel('Date')\n",
    "axs[0].set_ylabel('Q [m3/s]')\n",
    "axs[0].legend()\n",
    "axs[0].grid(True)\n",
    "\n",
    "# Plot 2: All Precipitations\n",
    "# (Assuming the base precipitation columns; adjust if you want to include lag or sum columns)\n",
    "precip_cols = ['Precipitation__1', 'Precipitation__2', 'Precipitation__3',\n",
    "              'Precipitation_lag1__1', 'Precipitation_lag1__2', 'Precipitation_lag1__3',\n",
    "              'Precipitation_lag2__1', 'Precipitation_lag2__2', 'Precipitation_lag2__3',\n",
    "              'Precipitation_lag3__1', 'Precipitation_lag3__2', 'Precipitation_lag3__3',\n",
    "              'Precipitation_sum5__1', 'Precipitation_sum5__2', 'Precipitation_sum5__3',\n",
    "              ]\n",
    "data.loc[:, precip_cols].plot(ax=axs[1])\n",
    "axs[1].set_title('Precipitations [mm/day]')\n",
    "axs[1].set_xlabel('Date')\n",
    "axs[1].set_ylabel('P [mm/day]')\n",
    "axs[1].legend()\n",
    "axs[1].grid(True)\n",
    "\n",
    "# Plot 3: All Snows\n",
    "snow_cols = ['Snow__1', 'Snow__2', 'Snow__3']\n",
    "data.loc[:, snow_cols].plot(ax=axs[2])\n",
    "axs[2].set_title('Snow water equivalent [m]')\n",
    "axs[2].set_xlabel('Date')\n",
    "axs[2].set_ylabel('SWE [m]')\n",
    "axs[2].legend()\n",
    "axs[2].grid(True)\n",
    "\n",
    "# Plot 4: All Temperatures\n",
    "temp_cols = ['Temperature__1', 'Temperature__2', 'Temperature__3']\n",
    "data.loc[:, temp_cols].plot(ax=axs[3])\n",
    "axs[3].set_title('Temperature [C]')\n",
    "axs[3].set_xlabel('Date')\n",
    "axs[3].set_ylabel('T [C]')\n",
    "axs[3].legend()\n",
    "axs[3].grid(True)\n",
    "\n",
    "plt.tight_layout()\n",
    "plt.show()"
   ]
  },
  {
   "cell_type": "markdown",
   "id": "75ac1ec7",
   "metadata": {},
   "source": [
    "## Hyperparameter tuning with grid search\n",
    "\n",
    "Now we perform a grid search with k-fold cross-validation to tune hyperparameters.  \n",
    "Make sure you choose the correct ones. Check the docs and think about the model.  \n",
    "Use only a few combinations to keep the grid search fast.  \n"
   ]
  },
  {
   "cell_type": "code",
   "execution_count": null,
   "id": "68d065a5",
   "metadata": {},
   "outputs": [],
   "source": [
    "# Create a pipeline (using placeholders for hyperparameters to be tuned)\n",
    "pipeline = Pipeline([\n",
    "    ('scaler', StandardScaler()),\n",
    "    ('pca', PCA()),\n",
    "    ('regressor', # YOUR REGRESSOR HERE),  \n",
    "])\n",
    "\n",
    "# Define the parameter grid for tuning\n",
    "param_grid = {\n",
    "    #'pca__n_components': [2, 4, 10], # Try different dimensionalities\n",
    "    # HYPERPARAMETERS HERE\n",
    "}\n",
    "\n",
    "# Set up k-fold cross-validation\n",
    "cv = KFold(n_splits=3, shuffle=True, random_state=42)\n",
    "\n",
    "# Create and run the GridSearchCV (MAE scoring is used)\n",
    "grid_search = GridSearchCV(pipeline, param_grid, cv=cv, scoring='neg_mean_absolute_error', verbose=2)\n",
    "grid_search.fit(X, y)\n",
    "\n",
    "# Print the best parameters\n",
    "print(\"Best parameters found:\")\n",
    "print(grid_search.best_params_)"
   ]
  },
  {
   "cell_type": "markdown",
   "id": "8a8a1742",
   "metadata": {},
   "source": [
    "## Evaluate test data\n",
    "\n",
    "Let's see how it works!"
   ]
  },
  {
   "cell_type": "code",
   "execution_count": null,
   "id": "88bbd319",
   "metadata": {},
   "outputs": [],
   "source": [
    "# Get the retrained best estimator\n",
    "trained_model = grid_search.best_estimator_\n",
    "\n",
    "# Or, if you wish to train it with custom parameters...\n",
    "#trained_model = pipeline.set_params(pca__n_components=10).fit(X,y)\n",
    "\n",
    "y_pred = trained_model.predict(X_test)\n",
    "\n",
    "# Plot the true signal, training data, and multiple predicted signals.\n",
    "plt.figure(figsize=(10, 6))\n",
    "# Plot the true signal line (extrapolated)\n",
    "plt.plot(y_test.index, y_test.values, label=\"True streamflow\", color=\"black\", linewidth=2)\n",
    "plt.plot(y_test.index, y_pred, label=\"Predicted streamflow\", color=\"steelblue\", linestyle='--', linewidth=2)\n",
    "\n",
    "plt.xlabel('Date')\n",
    "plt.ylabel('Discharge (Q) [m3/s]')\n",
    "plt.title('Your prediction on the test group')\n",
    "plt.legend()\n",
    "plt.tight_layout()\n",
    "plt.show()\n",
    "\n",
    "mse = mean_squared_error(y_test.values, y_pred)\n",
    "rmse = np.sqrt(mse)\n",
    "print(\"RMSE:\", rmse, '[m3/s]')"
   ]
  },
  {
   "cell_type": "code",
   "execution_count": null,
   "id": "3f09cfcf",
   "metadata": {},
   "outputs": [],
   "source": []
  },
  {
   "cell_type": "code",
   "execution_count": null,
   "id": "c9f2d88a",
   "metadata": {},
   "outputs": [],
   "source": []
  }
 ],
 "metadata": {
  "kernelspec": {
   "display_name": "Python 3 (ipykernel)",
   "language": "python",
   "name": "python3"
  },
  "language_info": {
   "codemirror_mode": {
    "name": "ipython",
    "version": 3
   },
   "file_extension": ".py",
   "mimetype": "text/x-python",
   "name": "python",
   "nbconvert_exporter": "python",
   "pygments_lexer": "ipython3",
   "version": "3.11.5"
  }
 },
 "nbformat": 4,
 "nbformat_minor": 5
}
