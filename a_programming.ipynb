{
 "cells": [
  {
   "cell_type": "markdown",
   "id": "be328de7-72a2-46b0-87c0-967f373d00a1",
   "metadata": {},
   "source": [
    "# Crash course on Machine Learning\n",
    "## Programming with Python (1)\n",
    "#### (10 minutes)\n",
    "Here, you will learn the basics of programming with Python.\n",
    "\n",
    "There are \"markdown\" boxes (like this one) where you can learn about the assignment, and \"code\" boxes, that you can edit and run.\n",
    "\n",
    "\n",
    "Keep the following in mind:\n",
    "### (1) To move down or run the code, press CTRL-Enter\n",
    "### (2) Each jupyter \"kernel\" only remains active for a few minutes when idle. If you are not finished, run something from time to time.\n",
    "### (3) Python is structured with \"identations\" or \"tabs\". If there are errors, pay attention to it.\n",
    "\n",
    "Good luck :)\n"
   ]
  },
  {
   "cell_type": "markdown",
   "id": "dbc0b09b-4cc9-4830-9523-a608a371e38f",
   "metadata": {},
   "source": [
    "## Super basic code\n",
    "Because I lack imagination... the Hello world.\n",
    "\n",
    "**print(...)** is a function.\n",
    "\n",
    "**'  '** or **\"  \"** indicate what is inside is a string.\n",
    "\n",
    "**#** is one way of including comments in the code."
   ]
  },
  {
   "cell_type": "code",
   "execution_count": 1,
   "id": "39d21267-41a4-4267-8643-0d3182ed5af9",
   "metadata": {},
   "outputs": [
    {
     "name": "stdout",
     "output_type": "stream",
     "text": [
      "Hello world\n"
     ]
    }
   ],
   "source": [
    "# some comment\n",
    "\n",
    "print('Hello world') # comments may be here as well\n"
   ]
  },
  {
   "cell_type": "markdown",
   "id": "84cff5e3-d490-4a51-a264-b8707a1acedc",
   "metadata": {},
   "source": [
    "## Variables\n",
    "Variabes are assigned with a **=** sign.\n",
    "The **list** (or **[]**) and the dictionary (or **{}**) are special types of variables in python.\n",
    "- They contain arbitrary things.\n",
    "- Both can be accessed with **[]**.\n",
    "- In the case of lists, with numbers from 0 to the length of the list -1.\n",
    "- In the case of dictionaries, with \"keys\".\n",
    "\n",
    "\n",
    "Play with the example below and try to understand the output prints...\n"
   ]
  },
  {
   "cell_type": "code",
   "execution_count": 2,
   "id": "3bc94fca-04d6-41e2-aaef-367ff3100fd0",
   "metadata": {},
   "outputs": [
    {
     "name": "stdout",
     "output_type": "stream",
     "text": [
      "1\n",
      "I am a long line of text\n",
      "I am a long line of text\n",
      "['I am a long line of text', 12, 'other string']\n",
      "The length of the list is:\n",
      "3\n",
      "['I am a long line of text', 12, 'other string', 123]\n",
      "The length of the list is:\n",
      "4\n",
      "I am a long line of text\n",
      "['I am a long line of text', 'something new', 'other string', 123]\n",
      "The length of the dictionary is:\n",
      "0\n",
      "{'a key': 54, 'another key': 'something else inside!'}\n",
      "The length of the dictionary is:\n",
      "2\n",
      "54\n",
      "{'a key': 54, 'another key': 'hello!'}\n"
     ]
    }
   ],
   "source": [
    "a = 1 \n",
    "print(a)\n",
    "\n",
    "variable_b = \"I am a long line of text\"\n",
    "print(variable_b)\n",
    "\n",
    "a = variable_b\n",
    "print(a)\n",
    "\n",
    "# Now a list\n",
    "some_list = [variable_b, 12, 'other string']\n",
    "print(some_list)\n",
    "\n",
    "print('The length of the list is:')\n",
    "print(len(some_list))\n",
    "\n",
    "    # Add things to a list\n",
    "some_list.append(123)\n",
    "print(some_list)\n",
    "\n",
    "print('The length of the list is:')\n",
    "print(len(some_list))\n",
    "\n",
    "    # Access things in a list\n",
    "c = some_list[0]\n",
    "print(c)\n",
    "\n",
    "    # Modify things in a list\n",
    "some_list[1] = 'something new'\n",
    "print(some_list)\n",
    "\n",
    "# And a dictionary:\n",
    "some_dict = {}\n",
    "\n",
    "print('The length of the dictionary is:')\n",
    "print(len(some_dict))\n",
    "\n",
    "    # Add things to a dictionary\n",
    "some_dict['a key'] = 54\n",
    "some_dict['another key'] = 'something else inside!'\n",
    "\n",
    "print(some_dict)\n",
    "\n",
    "print('The length of the dictionary is:')\n",
    "print(len(some_dict))\n",
    "\n",
    "    # Access things in a dictionary\n",
    "print(some_dict['a key'])\n",
    "\n",
    "    # Change things in a dictionary\n",
    "some_dict['another key'] = 'hello!'\n",
    "print(some_dict)\n",
    "\n"
   ]
  },
  {
   "cell_type": "markdown",
   "id": "8894dbb3-8c6c-422b-a717-f6d36c829326",
   "metadata": {},
   "source": [
    "## Errors\n",
    "Sometimes things do not go as planned. Then you get errors.\n",
    "\n",
    "Below, we are trying to get information from a list that is too short!\n",
    "\n",
    "Experiment with the dictionary... Comment the first line below with **#** and search for a key that does not exist in \"some_dict\"\n"
   ]
  },
  {
   "cell_type": "code",
   "execution_count": 3,
   "id": "a375ef5f-b7c9-422e-b3ea-f15b2428f2bc",
   "metadata": {},
   "outputs": [
    {
     "ename": "IndexError",
     "evalue": "list index out of range",
     "output_type": "error",
     "traceback": [
      "\u001b[1;31m---------------------------------------------------------------------------\u001b[0m",
      "\u001b[1;31mIndexError\u001b[0m                                Traceback (most recent call last)",
      "Cell \u001b[1;32mIn[3], line 1\u001b[0m\n\u001b[1;32m----> 1\u001b[0m \u001b[43msome_list\u001b[49m\u001b[43m[\u001b[49m\u001b[38;5;241;43m23\u001b[39;49m\u001b[43m]\u001b[49m\n\u001b[0;32m      3\u001b[0m \u001b[38;5;66;03m#some_dict['not my key!']\u001b[39;00m\n",
      "\u001b[1;31mIndexError\u001b[0m: list index out of range"
     ]
    }
   ],
   "source": [
    "some_list[23]\n",
    "\n",
    "#some_dict['not my key!']"
   ]
  },
  {
   "cell_type": "markdown",
   "id": "cb6b0451-1d84-4e13-a948-938f7e33a79b",
   "metadata": {},
   "source": [
    "## Getting complicated with logic, operators, and loops\n",
    "Some examples of loops are:\n",
    "- if elif else\n",
    "- for\n",
    "- while\n",
    "\n",
    "The main operators are:\n",
    "- == (equal)\n",
    "- != (differnt)\n",
    "- \\>= and <= (greater than or equal / smaller than or equal)\n",
    "- and\n",
    "- or\n",
    "- not\n",
    "\n",
    "**True** and **False** may be used as \"boolean\" variables\n",
    "\n",
    "Pay attention to the **sintax** and **indentation**!"
   ]
  },
  {
   "cell_type": "code",
   "execution_count": 4,
   "id": "2aa20a73-c60b-4bc3-a468-aa95456e071a",
   "metadata": {},
   "outputs": [
    {
     "name": "stdout",
     "output_type": "stream",
     "text": [
      "z is 2\n",
      "\n",
      "\n",
      "Yes!\n",
      "\n",
      "\n",
      "1\n",
      "2\n",
      "abc\n",
      "122\n",
      "23\n",
      "[0, 0, -1]\n",
      "2\n",
      "\n",
      "\n",
      "2\n",
      "5\n",
      "8\n",
      "11\n",
      "14\n",
      "17\n",
      "\n",
      "\n",
      "-2\n",
      "-1\n",
      "0\n",
      "1\n",
      "2\n"
     ]
    }
   ],
   "source": [
    "# The if elif else clause\n",
    "    # Experiment with different values of z to get all 3 messages\n",
    "z = 2\n",
    "if z==2: # == is the \"equal\" operator\n",
    "    print('z is 2')\n",
    "elif z>1000: # standing for else, if\n",
    "    print('z is large!')\n",
    "else: # if all previous clauses fail...\n",
    "    print('z is something else...')\n",
    "\n",
    "print('\\n')\n",
    "if z==2 and True:\n",
    "    print('Yes!')\n",
    "else:\n",
    "    print('No!')\n",
    "\n",
    "# The for clause (my favorite)\n",
    "# will loop through all items in a list\n",
    "print('\\n')\n",
    "another_list = [1, 2, 'abc', 122, 23, [0, 0, -1], 2]\n",
    "for i in another_list:\n",
    "    print(i)\n",
    "\n",
    "print('\\n')\n",
    "for i in range(2, 20, 3): # range is a special operator. In this case, from 2 to 20-1 in steps of 3\n",
    "    print(i)\n",
    "\n",
    "# The while clause\n",
    "print('\\n')\n",
    "counter = -2\n",
    "condition = True\n",
    "while condition:\n",
    "    if counter!=3: # != is the \"different\" operator\n",
    "        print(counter)\n",
    "        counter = counter + 1 # or counter += 1\n",
    "    else:\n",
    "        condition=False # This will cause the loop to end"
   ]
  },
  {
   "cell_type": "markdown",
   "id": "5cd855f2-2e33-433c-8186-ef3119e5d350",
   "metadata": {},
   "source": [
    "## Functions\n"
   ]
  },
  {
   "cell_type": "code",
   "execution_count": 5,
   "id": "cd16634e-9e3b-4ed1-a4ac-5be4acf1fe34",
   "metadata": {},
   "outputs": [
    {
     "data": {
      "text/plain": [
       "'I am a long line of text'"
      ]
     },
     "execution_count": 5,
     "metadata": {},
     "output_type": "execute_result"
    }
   ],
   "source": [
    "a"
   ]
  },
  {
   "cell_type": "markdown",
   "id": "11d274a0-c92d-498f-b420-ef1afac4cc8d",
   "metadata": {},
   "source": [
    "## Objects"
   ]
  },
  {
   "cell_type": "code",
   "execution_count": 6,
   "id": "ce054720-10b5-41d9-a493-a503272577ca",
   "metadata": {},
   "outputs": [
    {
     "data": {
      "text/plain": [
       "'I am a long line of text'"
      ]
     },
     "execution_count": 6,
     "metadata": {},
     "output_type": "execute_result"
    }
   ],
   "source": [
    "a"
   ]
  },
  {
   "cell_type": "markdown",
   "id": "14ff5ea1-fe92-4500-94ec-042444d303ee",
   "metadata": {},
   "source": [
    "## Thats it!"
   ]
  },
  {
   "cell_type": "code",
   "execution_count": null,
   "id": "67ceb899-e8b1-45e2-9acd-551936f7798b",
   "metadata": {},
   "outputs": [],
   "source": []
  },
  {
   "cell_type": "code",
   "execution_count": null,
   "id": "a4c8264b",
   "metadata": {},
   "outputs": [],
   "source": []
  }
 ],
 "metadata": {
  "kernelspec": {
   "display_name": "Python 3 (ipykernel)",
   "language": "python",
   "name": "python3"
  },
  "language_info": {
   "codemirror_mode": {
    "name": "ipython",
    "version": 3
   },
   "file_extension": ".py",
   "mimetype": "text/x-python",
   "name": "python",
   "nbconvert_exporter": "python",
   "pygments_lexer": "ipython3",
   "version": "3.9.18"
  }
 },
 "nbformat": 4,
 "nbformat_minor": 5
}
